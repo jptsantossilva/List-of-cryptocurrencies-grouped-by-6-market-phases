{
 "cells": [
  {
   "cell_type": "markdown",
   "metadata": {},
   "source": []
  },
  {
   "cell_type": "code",
   "execution_count": 13,
   "metadata": {},
   "outputs": [],
   "source": [
    "# Import date and timedelta class\n",
    "# from datetime module\n",
    "from datetime import date\n",
    "from datetime import timedelta\n",
    "import pandas as pd"
   ]
  },
  {
   "cell_type": "code",
   "execution_count": 28,
   "metadata": {},
   "outputs": [
    {
     "name": "stdout",
     "output_type": "stream",
     "text": [
      "\n",
      "Bullish Merge\n"
     ]
    },
    {
     "data": {
      "text/html": [
       "<div>\n",
       "<style scoped>\n",
       "    .dataframe tbody tr th:only-of-type {\n",
       "        vertical-align: middle;\n",
       "    }\n",
       "\n",
       "    .dataframe tbody tr th {\n",
       "        vertical-align: top;\n",
       "    }\n",
       "\n",
       "    .dataframe thead th {\n",
       "        text-align: right;\n",
       "    }\n",
       "</style>\n",
       "<table border=\"1\" class=\"dataframe\">\n",
       "  <thead>\n",
       "    <tr style=\"text-align: right;\">\n",
       "      <th></th>\n",
       "      <th>Coinpair</th>\n",
       "      <th>MarketPhase_x</th>\n",
       "      <th>MarketPhase_y</th>\n",
       "      <th>_merge</th>\n",
       "    </tr>\n",
       "  </thead>\n",
       "  <tbody>\n",
       "    <tr>\n",
       "      <th>0</th>\n",
       "      <td>BANDBUSD</td>\n",
       "      <td>bullish</td>\n",
       "      <td>NaN</td>\n",
       "      <td>left_only</td>\n",
       "    </tr>\n",
       "    <tr>\n",
       "      <th>5</th>\n",
       "      <td>APEBUSD</td>\n",
       "      <td>NaN</td>\n",
       "      <td>bullish</td>\n",
       "      <td>right_only</td>\n",
       "    </tr>\n",
       "    <tr>\n",
       "      <th>6</th>\n",
       "      <td>ATABUSD</td>\n",
       "      <td>NaN</td>\n",
       "      <td>bullish</td>\n",
       "      <td>right_only</td>\n",
       "    </tr>\n",
       "    <tr>\n",
       "      <th>7</th>\n",
       "      <td>LAZIOBUSD</td>\n",
       "      <td>NaN</td>\n",
       "      <td>bullish</td>\n",
       "      <td>right_only</td>\n",
       "    </tr>\n",
       "  </tbody>\n",
       "</table>\n",
       "</div>"
      ],
      "text/plain": [
       "    Coinpair MarketPhase_x MarketPhase_y      _merge\n",
       "0   BANDBUSD       bullish           NaN   left_only\n",
       "5    APEBUSD           NaN       bullish  right_only\n",
       "6    ATABUSD           NaN       bullish  right_only\n",
       "7  LAZIOBUSD           NaN       bullish  right_only"
      ]
     },
     "metadata": {},
     "output_type": "display_data"
    },
    {
     "name": "stdout",
     "output_type": "stream",
     "text": [
      "\n",
      "Accumulation Merge\n"
     ]
    },
    {
     "data": {
      "text/html": [
       "<div>\n",
       "<style scoped>\n",
       "    .dataframe tbody tr th:only-of-type {\n",
       "        vertical-align: middle;\n",
       "    }\n",
       "\n",
       "    .dataframe tbody tr th {\n",
       "        vertical-align: top;\n",
       "    }\n",
       "\n",
       "    .dataframe thead th {\n",
       "        text-align: right;\n",
       "    }\n",
       "</style>\n",
       "<table border=\"1\" class=\"dataframe\">\n",
       "  <thead>\n",
       "    <tr style=\"text-align: right;\">\n",
       "      <th></th>\n",
       "      <th>Coinpair</th>\n",
       "      <th>MarketPhase_x</th>\n",
       "      <th>MarketPhase_y</th>\n",
       "      <th>_merge</th>\n",
       "    </tr>\n",
       "  </thead>\n",
       "  <tbody>\n",
       "    <tr>\n",
       "      <th>1</th>\n",
       "      <td>DYDXBUSD</td>\n",
       "      <td>accumulation</td>\n",
       "      <td>NaN</td>\n",
       "      <td>left_only</td>\n",
       "    </tr>\n",
       "    <tr>\n",
       "      <th>6</th>\n",
       "      <td>LTCBUSD</td>\n",
       "      <td>NaN</td>\n",
       "      <td>accumulation</td>\n",
       "      <td>right_only</td>\n",
       "    </tr>\n",
       "  </tbody>\n",
       "</table>\n",
       "</div>"
      ],
      "text/plain": [
       "   Coinpair MarketPhase_x MarketPhase_y      _merge\n",
       "1  DYDXBUSD  accumulation           NaN   left_only\n",
       "6   LTCBUSD           NaN  accumulation  right_only"
      ]
     },
     "metadata": {},
     "output_type": "display_data"
    }
   ],
   "source": [
    "stablecoin = \"BUSD\"\n",
    "timeframe = \"1d\"\n",
    "\n",
    "\n",
    "currentDate = date.today().strftime('%Y%m%d')\n",
    "dfResult = pd.read_csv(\"coinListByMarketPhases_\"+stablecoin+\"_\"+timeframe+\"_\"+currentDate)\n",
    "\n",
    "dfAccumulation= dfResult.query(\"MarketPhase == 'accumulation'\")\n",
    "# print(\"\\nCoins in Accumulation Market Phase\")\n",
    "# print(dfAccumulation)\n",
    "\n",
    "dfBullish = dfResult.query(\"MarketPhase == 'bullish'\")\n",
    "# print(\"\\nCoins in Bullish Market Phase\")\n",
    "# print(dfBullish)\n",
    "\n",
    "# get yesterday results and merge \n",
    "# Yesterday date\n",
    "yesterdayDate = date.today() - timedelta(days = 1)\n",
    "# print(\"Yesterday was: \", yesterday.strftime('%Y%m%d'))\n",
    "yesterdayDate = yesterdayDate.strftime('%Y%m%d')\n",
    "dfResultYesterday = pd.read_csv(\"coinListByMarketPhases_\"+stablecoin+\"_\"+timeframe+\"_\"+yesterdayDate)\n",
    "# filter by accumulation and bullish\n",
    "dfYesterdayAccumulation = dfResultYesterday.query(\"MarketPhase == 'accumulation'\")\n",
    "dfYesterdayBullish = dfResultYesterday.query(\"MarketPhase == 'bullish'\")\n",
    "\n",
    "# columns selection\n",
    "dfBullish = dfBullish.iloc[:,[1,6]] \n",
    "dfYesterdayBullish =dfYesterdayBullish.iloc[:,[1,6]] \n",
    "\n",
    "dfAccumulation = dfAccumulation.iloc[:,[1,6]]\n",
    "dfYesterdayAccumulation = dfYesterdayAccumulation.iloc[:,[1,6]]\n",
    "\n",
    "dfBullishMerge = pd.merge(dfYesterdayBullish, dfBullish, on=\"Coinpair\", how=\"outer\", indicator=True)\n",
    "print(\"\\nBullish Merge\")\n",
    "dfBullishMerge = dfBullishMerge.query(\"_merge != 'both'\")\n",
    "display(dfBullishMerge)\n",
    "\n",
    "\n",
    "\n",
    "dfAccumulationMerge = pd.merge(dfYesterdayAccumulation, dfAccumulation, on=\"Coinpair\", how=\"outer\", indicator=True)\n",
    "print(\"\\nAccumulation Merge\")\n",
    "dfAccumulationMerge = dfAccumulationMerge.query(\"_merge != 'both'\")\n",
    "display(dfAccumulationMerge)\n",
    "\n",
    "\n",
    "# I want to trade coins in the accumulation and bullish phase\n",
    "# if left only then remove\n",
    "# if right only then add\n",
    "OR\n",
    "\n",
    "remove coinpairs from positions files that are not in this list and position = 0\n",
    "\n"
   ]
  }
 ],
 "metadata": {
  "kernelspec": {
   "display_name": "Python 3.10.6 64-bit",
   "language": "python",
   "name": "python3"
  },
  "language_info": {
   "codemirror_mode": {
    "name": "ipython",
    "version": 3
   },
   "file_extension": ".py",
   "mimetype": "text/x-python",
   "name": "python",
   "nbconvert_exporter": "python",
   "pygments_lexer": "ipython3",
   "version": "3.10.6"
  },
  "orig_nbformat": 4,
  "vscode": {
   "interpreter": {
    "hash": "916dbcbb3f70747c44a77c7bcd40155683ae19c65e1c03b4aa3499c5328201f1"
   }
  }
 },
 "nbformat": 4,
 "nbformat_minor": 2
}
